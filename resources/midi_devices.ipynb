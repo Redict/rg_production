{
 "cells": [
  {
   "cell_type": "markdown",
   "id": "unnecessary-flexibility",
   "metadata": {},
   "source": [
    "# Midi devices"
   ]
  },
  {
   "cell_type": "markdown",
   "id": "exposed-ethnic",
   "metadata": {},
   "source": [
    "## PyGame"
   ]
  },
  {
   "cell_type": "markdown",
   "id": "worse-lease",
   "metadata": {},
   "source": [
    "    pygame.midi.get_device_info(an_id)\n",
    "    Docstring:\n",
    "    returns information about a midi device\n",
    "    pygame.midi.get_device_info(an_id): return (interf, name,\n",
    "                                                input, output,\n",
    "                                                opened)\n",
    "\n",
    "    interf - a text string describing the device interface, eg 'ALSA'.\n",
    "    name - a text string for the name of the device, eg 'Midi Through Port-0'\n",
    "    input - 0, or 1 if the device is an input device.\n",
    "    output - 0, or 1 if the device is an output device.\n",
    "    opened - 0, or 1 if the device is opened.\n",
    "\n",
    "    If the id is out of range, the function returns None."
   ]
  },
  {
   "cell_type": "code",
   "execution_count": 1,
   "id": "empirical-jersey",
   "metadata": {
    "scrolled": true
   },
   "outputs": [
    {
     "name": "stdout",
     "output_type": "stream",
     "text": [
      "pygame 2.0.1 (SDL 2.0.14, Python 3.8.5)\n",
      "Hello from the pygame community. https://www.pygame.org/contribute.html\n"
     ]
    },
    {
     "data": {
      "text/plain": [
       "{'input': [('MMSystem', 'SAMSUNG_Android', 1, 0, 0)],\n",
       " 'output': [('MMSystem', 'Microsoft MIDI Mapper', 0, 1, 0),\n",
       "  ('MMSystem', 'Microsoft GS Wavetable Synth', 0, 1, 0),\n",
       "  ('MMSystem', 'SAMSUNG_Android', 0, 1, 0)]}"
      ]
     },
     "execution_count": 1,
     "metadata": {},
     "output_type": "execute_result"
    }
   ],
   "source": [
    "import sys, pygame, pygame.midi\n",
    "import json\n",
    " \n",
    "# set up pygame\n",
    "pygame.init()\n",
    "pygame.midi.init()\n",
    "\n",
    "midi_devices = {\n",
    "    \"input\": [],\n",
    "    \"output\": []\n",
    "}\n",
    "\n",
    "# list all midi devices\n",
    "for x in range(pygame.midi.get_count()):\n",
    "    device = pygame.midi.get_device_info(x)\n",
    "    \n",
    "    # decode to utf 8\n",
    "    device = list(device)\n",
    "    device[0] = device[0].decode(\"utf-8\") # interface \n",
    "    device[1] = device[1].decode(\"utf-8\") # device name\n",
    "    device = tuple(device)\n",
    "    \n",
    "    if device[2]:\n",
    "        midi_devices[\"input\"].append(device)\n",
    "        \n",
    "    if device[3]:\n",
    "        midi_devices[\"output\"].append(device)\n",
    "    \n",
    "\n",
    "midi_devices"
   ]
  },
  {
   "cell_type": "code",
   "execution_count": 2,
   "id": "married-tunisia",
   "metadata": {},
   "outputs": [
    {
     "data": {
      "text/plain": [
       "'MMSystem'"
      ]
     },
     "execution_count": 2,
     "metadata": {},
     "output_type": "execute_result"
    }
   ],
   "source": [
    "midi_devices[\"input\"][0][0]"
   ]
  },
  {
   "cell_type": "markdown",
   "id": "micro-cincinnati",
   "metadata": {},
   "source": [
    "If no midi devices `get_count() = -1`"
   ]
  },
  {
   "cell_type": "code",
   "execution_count": 30,
   "id": "digital-crossing",
   "metadata": {},
   "outputs": [
    {
     "data": {
      "text/plain": [
       "4"
      ]
     },
     "execution_count": 30,
     "metadata": {},
     "output_type": "execute_result"
    }
   ],
   "source": [
    "pygame.midi.get_count()"
   ]
  },
  {
   "cell_type": "code",
   "execution_count": 31,
   "id": "chicken-consolidation",
   "metadata": {},
   "outputs": [],
   "source": [
    "pygame.midi.quit()"
   ]
  },
  {
   "cell_type": "code",
   "execution_count": null,
   "id": "noble-question",
   "metadata": {
    "scrolled": false
   },
   "outputs": [
    {
     "name": "stdout",
     "output_type": "stream",
     "text": [
      "(b'MMSystem', b'Microsoft MIDI Mapper', 0, 1, 0)\n",
      "(b'MMSystem', b'SAMSUNG_Android', 1, 0, 0)\n",
      "(b'MMSystem', b'Microsoft GS Wavetable Synth', 0, 1, 0)\n",
      "(b'MMSystem', b'SAMSUNG_Android', 0, 1, 0)\n",
      "[[[144, 48, 64, 0], 27705]]\n",
      "[[[128, 48, 64, 0], 29304]]\n"
     ]
    }
   ],
   "source": [
    "import sys, pygame, pygame.midi\n",
    " \n",
    "# set up pygame\n",
    "pygame.init()\n",
    "pygame.midi.init()\n",
    "\n",
    "# list all midi devices\n",
    "for x in range( 0, pygame.midi.get_count() ):\n",
    "    print(pygame.midi.get_device_info(x))\n",
    "\n",
    "# open a specific midi device\n",
    "inp = pygame.midi.Input(1)\n",
    "\n",
    "# run the event loop\n",
    "while True:\n",
    "    if inp.poll():\n",
    "     # no way to find number of messages in queue\n",
    "     # so we just specify a high max value\n",
    "        print(inp.read(1000))\n",
    "\n",
    " # wait 10ms - this is arbitrary, but wait(0) still resulted\n",
    " # in 100% cpu utilization\n",
    "pygame.time.wait(10)"
   ]
  },
  {
   "cell_type": "markdown",
   "id": "eastern-profession",
   "metadata": {},
   "source": [
    "# Mido\n",
    "https://mido.readthedocs.io/en/latest/lib.html#mido.get_input_names"
   ]
  },
  {
   "cell_type": "code",
   "execution_count": 4,
   "id": "naked-sender",
   "metadata": {
    "scrolled": true
   },
   "outputs": [
    {
     "data": {
      "text/plain": [
       "['SAMSUNG_Android 0']"
      ]
     },
     "execution_count": 4,
     "metadata": {},
     "output_type": "execute_result"
    }
   ],
   "source": [
    "import mido\n",
    "mido.get_input_names()"
   ]
  },
  {
   "cell_type": "code",
   "execution_count": 5,
   "id": "technical-february",
   "metadata": {},
   "outputs": [
    {
     "data": {
      "text/plain": [
       "['Microsoft GS Wavetable Synth 0', 'SAMSUNG_Android 1']"
      ]
     },
     "execution_count": 5,
     "metadata": {},
     "output_type": "execute_result"
    }
   ],
   "source": [
    "mido.get_output_names()"
   ]
  },
  {
   "cell_type": "code",
   "execution_count": 6,
   "id": "simplified-glance",
   "metadata": {},
   "outputs": [
    {
     "data": {
      "text/plain": [
       "[]"
      ]
     },
     "execution_count": 6,
     "metadata": {},
     "output_type": "execute_result"
    }
   ],
   "source": [
    "mido.get_ioport_names()"
   ]
  },
  {
   "cell_type": "code",
   "execution_count": 9,
   "id": "descending-feeding",
   "metadata": {},
   "outputs": [
    {
     "data": {
      "text/plain": [
       "{'input': ['SAMSUNG_Android 0'],\n",
       " 'output': ['Microsoft GS Wavetable Synth 0', 'SAMSUNG_Android 1']}"
      ]
     },
     "execution_count": 9,
     "metadata": {},
     "output_type": "execute_result"
    }
   ],
   "source": [
    "midi_devices = {\n",
    "    \"input\": [],\n",
    "    \"output\": []\n",
    "}\n",
    "\n",
    "midi_devices[\"input\"] = mido.get_input_names()\n",
    "midi_devices[\"output\"] = mido.get_output_names()\n",
    "\n",
    "midi_devices"
   ]
  },
  {
   "cell_type": "markdown",
   "id": "living-theorem",
   "metadata": {},
   "source": [
    "open messages for 3 seconds"
   ]
  },
  {
   "cell_type": "code",
   "execution_count": 4,
   "id": "damaged-things",
   "metadata": {},
   "outputs": [],
   "source": [
    "from datetime import datetime, timedelta\n",
    "import time"
   ]
  },
  {
   "cell_type": "code",
   "execution_count": 5,
   "id": "settled-today",
   "metadata": {},
   "outputs": [
    {
     "name": "stdout",
     "output_type": "stream",
     "text": [
      "note_on channel=0 note=48 velocity=64 time=0\n",
      "note_off channel=0 note=48 velocity=64 time=0\n",
      "Finished\n"
     ]
    }
   ],
   "source": [
    "start = datetime.now()\n",
    "finish = start + timedelta(seconds=3)\n",
    "\n",
    "inport = mido.open_input('SAMSUNG_Android 0')\n",
    "\n",
    "for msg in inport:\n",
    "    print(msg)\n",
    "    \n",
    "    if datetime.now() > finish:\n",
    "        break\n",
    "        \n",
    "print(\"Finished\")"
   ]
  },
  {
   "cell_type": "code",
   "execution_count": 9,
   "id": "polish-kidney",
   "metadata": {},
   "outputs": [],
   "source": [
    "inport.close()"
   ]
  },
  {
   "cell_type": "markdown",
   "id": "talented-malawi",
   "metadata": {},
   "source": [
    "# rtmidi\n",
    "https://spotlightkid.github.io/python-rtmidi/rtmidi.html"
   ]
  },
  {
   "cell_type": "code",
   "execution_count": 8,
   "id": "colored-powder",
   "metadata": {},
   "outputs": [
    {
     "name": "stdout",
     "output_type": "stream",
     "text": [
      "Requirement already satisfied: python-rtmidi in c:\\users\\fernando\\desktop\\production\\4-production-osr\\venv\\lib\\site-packages (1.4.7)Note: you may need to restart the kernel to use updated packages.\n",
      "\n"
     ]
    }
   ],
   "source": [
    "%pip install python-rtmidi"
   ]
  },
  {
   "cell_type": "code",
   "execution_count": 1,
   "id": "mysterious-latitude",
   "metadata": {},
   "outputs": [],
   "source": [
    "import rtmidi"
   ]
  },
  {
   "cell_type": "code",
   "execution_count": 2,
   "id": "measured-equilibrium",
   "metadata": {},
   "outputs": [
    {
     "data": {
      "text/plain": [
       "1"
      ]
     },
     "execution_count": 2,
     "metadata": {},
     "output_type": "execute_result"
    }
   ],
   "source": [
    "midiin = rtmidi.MidiIn()\n",
    "midiin.get_port_count()"
   ]
  },
  {
   "cell_type": "code",
   "execution_count": 3,
   "id": "expired-corner",
   "metadata": {
    "scrolled": true
   },
   "outputs": [
    {
     "data": {
      "text/plain": [
       "'MIDI function 0'"
      ]
     },
     "execution_count": 3,
     "metadata": {},
     "output_type": "execute_result"
    }
   ],
   "source": [
    "midiin.get_port_name(0)"
   ]
  },
  {
   "cell_type": "code",
   "execution_count": 66,
   "id": "commercial-relations",
   "metadata": {},
   "outputs": [
    {
     "name": "stdout",
     "output_type": "stream",
     "text": [
      "0 MIDI function 0\n",
      "0 ['MIDI function 0']\n"
     ]
    }
   ],
   "source": [
    "midiin = rtmidi.MidiIn()\n",
    "for n in range(midiin.get_port_count()):\n",
    "    print(n, midiin.get_port_name(n))\n",
    "    \n",
    "print(n, midiin.get_ports())"
   ]
  },
  {
   "cell_type": "code",
   "execution_count": 68,
   "id": "mobile-minnesota",
   "metadata": {},
   "outputs": [
    {
     "data": {
      "text/plain": [
       "4"
      ]
     },
     "execution_count": 68,
     "metadata": {},
     "output_type": "execute_result"
    }
   ],
   "source": [
    "midiin.get_current_api()"
   ]
  },
  {
   "cell_type": "code",
   "execution_count": 14,
   "id": "alpine-sight",
   "metadata": {},
   "outputs": [
    {
     "data": {
      "text/plain": [
       "2"
      ]
     },
     "execution_count": 14,
     "metadata": {},
     "output_type": "execute_result"
    }
   ],
   "source": [
    "midiout = rtmidi.MidiOut()\n",
    "midiout.get_port_count()"
   ]
  },
  {
   "cell_type": "code",
   "execution_count": 15,
   "id": "vertical-matthew",
   "metadata": {},
   "outputs": [
    {
     "name": "stdout",
     "output_type": "stream",
     "text": [
      "0 Microsoft GS Wavetable Synth 0\n",
      "1 SAMSUNG_Android 1\n",
      "1 ['Microsoft GS Wavetable Synth 0', 'SAMSUNG_Android 1']\n"
     ]
    }
   ],
   "source": [
    "for n in range(midiout.get_port_count()):\n",
    "    print(n, midiout.get_port_name(n))\n",
    "    \n",
    "print(n, midiout.get_ports())"
   ]
  },
  {
   "cell_type": "code",
   "execution_count": 92,
   "id": "hungry-first",
   "metadata": {},
   "outputs": [
    {
     "name": "stdout",
     "output_type": "stream",
     "text": [
      "{\n",
      "  \"input\": [\n",
      "    \"MIDI function 0\"\n",
      "  ],\n",
      "  \"output\": [\n",
      "    \"Microsoft GS Wavetable Synth 0\",\n",
      "    \"MIDI function 1\"\n",
      "  ]\n",
      "}\n"
     ]
    }
   ],
   "source": [
    "import json\n",
    "midiin = rtmidi.MidiIn()\n",
    "midiout = rtmidi.MidiOut()\n",
    "\n",
    "midi_devices = {\n",
    "    \"input\": [midiin.get_port_name(n) for n in range(midiin.get_port_count())],\n",
    "    \"output\": [midiout.get_port_name(n) for n in range(midiout.get_port_count())]\n",
    "}\n",
    "\n",
    "print(json.dumps(midi_devices, indent=2))"
   ]
  },
  {
   "cell_type": "code",
   "execution_count": 5,
   "id": "lined-naples",
   "metadata": {},
   "outputs": [
    {
     "data": {
      "text/plain": [
       "'1.4.7'"
      ]
     },
     "execution_count": 5,
     "metadata": {},
     "output_type": "execute_result"
    }
   ],
   "source": [
    "rtmidi.__version__"
   ]
  },
  {
   "cell_type": "code",
   "execution_count": null,
   "id": "silent-despite",
   "metadata": {},
   "outputs": [],
   "source": []
  },
  {
   "cell_type": "code",
   "execution_count": 73,
   "id": "other-architecture",
   "metadata": {},
   "outputs": [
    {
     "data": {
      "text/plain": [
       "[4]"
      ]
     },
     "execution_count": 73,
     "metadata": {},
     "output_type": "execute_result"
    }
   ],
   "source": [
    "rtmidi.get_compiled_api()"
   ]
  },
  {
   "cell_type": "code",
   "execution_count": 84,
   "id": "brown-mechanics",
   "metadata": {},
   "outputs": [
    {
     "data": {
      "text/plain": [
       "4"
      ]
     },
     "execution_count": 84,
     "metadata": {},
     "output_type": "execute_result"
    }
   ],
   "source": [
    "rtmidi.get_compiled_api_by_name(\"winmm\")"
   ]
  },
  {
   "cell_type": "markdown",
   "id": "lined-council",
   "metadata": {},
   "source": [
    "    API_UNSPECIFIED  0\n",
    "    API_MACOSX_CORE  1\n",
    "    API_LINUX_ALSA   2\n",
    "    API_UNIX_JACK    3\n",
    "    API_WINDOWS_MM   4    \n",
    "    API_RTMIDI_DUMMY 5"
   ]
  },
  {
   "cell_type": "code",
   "execution_count": 60,
   "id": "sapphire-reduction",
   "metadata": {},
   "outputs": [
    {
     "data": {
      "text/plain": [
       "4"
      ]
     },
     "execution_count": 60,
     "metadata": {},
     "output_type": "execute_result"
    }
   ],
   "source": [
    "rtmidi.API_WINDOWS_MM"
   ]
  },
  {
   "cell_type": "code",
   "execution_count": 110,
   "id": "about-cleaner",
   "metadata": {},
   "outputs": [
    {
     "name": "stdout",
     "output_type": "stream",
     "text": [
      "unspecified (Unknown)\n",
      "core (CoreMidi)\n",
      "alsa (ALSA)\n",
      "jack (Jack)\n",
      "winmm (Windows MultiMedia)\n",
      "dummy (Dummy)\n"
     ]
    }
   ],
   "source": [
    "for n in range(6):\n",
    "    name = rtmidi.get_api_name(n)\n",
    "    name_complete = rtmidi.get_api_display_name(n)\n",
    "    print(f\"{name} ({name_complete})\")"
   ]
  },
  {
   "cell_type": "code",
   "execution_count": 82,
   "id": "first-corner",
   "metadata": {},
   "outputs": [
    {
     "data": {
      "text/plain": [
       "'Windows MultiMedia'"
      ]
     },
     "execution_count": 82,
     "metadata": {},
     "output_type": "execute_result"
    }
   ],
   "source": [
    "rtmidi.get_api_display_name(rtmidi.API_WINDOWS_MM)"
   ]
  },
  {
   "cell_type": "code",
   "execution_count": 62,
   "id": "related-hometown",
   "metadata": {},
   "outputs": [],
   "source": [
    "from rtmidi import midiutil"
   ]
  },
  {
   "cell_type": "code",
   "execution_count": 112,
   "id": "superior-carpet",
   "metadata": {},
   "outputs": [
    {
     "data": {
      "text/plain": [
       "0"
      ]
     },
     "execution_count": 112,
     "metadata": {},
     "output_type": "execute_result"
    }
   ],
   "source": [
    "midiutil.get_api_from_environment()"
   ]
  },
  {
   "cell_type": "code",
   "execution_count": 113,
   "id": "marked-walker",
   "metadata": {
    "scrolled": true
   },
   "outputs": [
    {
     "name": "stdout",
     "output_type": "stream",
     "text": [
      "Available MIDI input ports:\n",
      "\n",
      "[0] MIDI function 0\n",
      "\n"
     ]
    }
   ],
   "source": [
    "midiutil.list_input_ports()"
   ]
  },
  {
   "cell_type": "code",
   "execution_count": 91,
   "id": "vulnerable-brush",
   "metadata": {},
   "outputs": [
    {
     "name": "stdout",
     "output_type": "stream",
     "text": [
      "Available MIDI ouput ports:\n",
      "\n",
      "[0] Microsoft GS Wavetable Synth 0\n",
      "[1] MIDI function 1\n",
      "\n"
     ]
    }
   ],
   "source": [
    "midiutil.list_output_ports(api=5)"
   ]
  },
  {
   "cell_type": "markdown",
   "id": "wooden-intention",
   "metadata": {},
   "source": [
    "# CSound\n",
    "http://www.csounds.com/manual/html/CommandFlags.html"
   ]
  },
  {
   "cell_type": "code",
   "execution_count": 40,
   "id": "interesting-cornell",
   "metadata": {
    "scrolled": false
   },
   "outputs": [
    {
     "name": "stdout",
     "output_type": "stream",
     "text": [
      "0dBFS level = 32768.0"
     ]
    },
    {
     "name": "stderr",
     "output_type": "stream",
     "text": [
      "WARNING: could not open library 'C:\\Program Files\\Csound6_x64\\plugins64\\\\py.dll' (-1)\n"
     ]
    },
    {
     "name": "stdout",
     "output_type": "stream",
     "text": [
      "\n",
      "--Csound version 6.15 (double samples) Aug 13 2020\n",
      "[commit: 18c2c7897425f462b9a7743cee157cb410c88198]\n",
      "libsndfile-1.0.29pre1\n",
      "rtaudio: PortAudio module enabled ...\n",
      "using callback interface\n",
      "rtmidi: PortMIDI module enabled\n",
      "1 MIDI input devices\n",
      " 0: 0 (SAMSUNG_Android)\n",
      "3 MIDI output devices\n",
      " 0: 0 (Microsoft MIDI Mapper)\n",
      " 1: 1 (Microsoft GS Wavetable Synth)\n",
      " 2: 2 (SAMSUNG_Android)\n",
      "end of score.\t\t   overall amps:      0.0\n",
      "\t   overall samples out of range:        0\n",
      "0 errors in performance\n",
      "Elapsed time at end of performance: real: 0.092s, CPU: 0.092s\n"
     ]
    }
   ],
   "source": [
    "!csound --midi-devices"
   ]
  },
  {
   "cell_type": "code",
   "execution_count": 42,
   "id": "hindu-limitation",
   "metadata": {},
   "outputs": [],
   "source": [
    "import sys\n",
    "import ctcsound\n",
    "\n",
    "cs = ctcsound.Csound()\n",
    "result = cs.compile_(\"--midi-devices\")\n"
   ]
  },
  {
   "cell_type": "code",
   "execution_count": 43,
   "id": "incorporate-infection",
   "metadata": {},
   "outputs": [
    {
     "data": {
      "text/plain": [
       "-1"
      ]
     },
     "execution_count": 43,
     "metadata": {},
     "output_type": "execute_result"
    }
   ],
   "source": [
    "result"
   ]
  },
  {
   "cell_type": "markdown",
   "id": "secret-choir",
   "metadata": {},
   "source": [
    "# ctcsound\n",
    "\n",
    "https://csound.com/docs/ctcsound/ctcsound-API.html#ctcsound.Csound.midiDevList\n",
    "\n",
    "http://www.csounds.com/manual/html/CommandFlags.html"
   ]
  },
  {
   "cell_type": "code",
   "execution_count": 1,
   "id": "progressive-hobby",
   "metadata": {},
   "outputs": [],
   "source": [
    "import ctcsound"
   ]
  },
  {
   "cell_type": "code",
   "execution_count": 2,
   "id": "turned-closure",
   "metadata": {},
   "outputs": [],
   "source": [
    "cs = ctcsound.Csound()"
   ]
  },
  {
   "cell_type": "code",
   "execution_count": 7,
   "id": "entertaining-genome",
   "metadata": {},
   "outputs": [
    {
     "data": {
      "text/plain": [
       "0"
      ]
     },
     "execution_count": 7,
     "metadata": {},
     "output_type": "execute_result"
    }
   ],
   "source": [
    "cs.start()"
   ]
  },
  {
   "cell_type": "code",
   "execution_count": 32,
   "id": "reported-clinic",
   "metadata": {
    "scrolled": true
   },
   "outputs": [
    {
     "data": {
      "text/plain": [
       "[{'device_name': 'Asignador de sonido Microsoft - Output [MME]',\n",
       "  'device_id': 'dac0',\n",
       "  'rt_module': 'PortAudio',\n",
       "  'max_nchnls': 2,\n",
       "  'isOutput': True},\n",
       " {'device_name': 'Altavoz/Auricular (Realtek High [MME]',\n",
       "  'device_id': 'dac1',\n",
       "  'rt_module': 'PortAudio',\n",
       "  'max_nchnls': 2,\n",
       "  'isOutput': True},\n",
       " {'device_name': 'Controlador primario de sonido [Windows DirectSound]',\n",
       "  'device_id': 'dac2',\n",
       "  'rt_module': 'PortAudio',\n",
       "  'max_nchnls': 2,\n",
       "  'isOutput': True},\n",
       " {'device_name': 'Altavoz/Auricular (Realtek High Definition Audio) [Windows Dir',\n",
       "  'device_id': 'dac3',\n",
       "  'rt_module': 'PortAudio',\n",
       "  'max_nchnls': 2,\n",
       "  'isOutput': True},\n",
       " {'device_name': 'Altavoz/Auricular (Realtek High Definition Audio) [Windows WAS',\n",
       "  'device_id': 'dac4',\n",
       "  'rt_module': 'PortAudio',\n",
       "  'max_nchnls': 2,\n",
       "  'isOutput': True},\n",
       " {'device_name': 'Speakers (Realtek HD Audio output) [Windows WDM-KS]',\n",
       "  'device_id': 'dac5',\n",
       "  'rt_module': 'PortAudio',\n",
       "  'max_nchnls': 2,\n",
       "  'isOutput': True}]"
      ]
     },
     "execution_count": 32,
     "metadata": {},
     "output_type": "execute_result"
    }
   ],
   "source": [
    "cs.audioDevList(True)"
   ]
  },
  {
   "cell_type": "code",
   "execution_count": 16,
   "id": "thick-binding",
   "metadata": {},
   "outputs": [
    {
     "ename": "NameError",
     "evalue": "name 'csoundMidiDevice' is not defined",
     "output_type": "error",
     "traceback": [
      "\u001b[1;31m---------------------------------------------------------------------------\u001b[0m",
      "\u001b[1;31mNameError\u001b[0m                                 Traceback (most recent call last)",
      "\u001b[1;32m<ipython-input-16-319dc639760e>\u001b[0m in \u001b[0;36m<module>\u001b[1;34m\u001b[0m\n\u001b[1;32m----> 1\u001b[1;33m \u001b[0mcs\u001b[0m\u001b[1;33m.\u001b[0m\u001b[0mmidiDevList\u001b[0m\u001b[1;33m(\u001b[0m\u001b[1;32mTrue\u001b[0m\u001b[1;33m)\u001b[0m\u001b[1;33m\u001b[0m\u001b[1;33m\u001b[0m\u001b[0m\n\u001b[0m",
      "\u001b[1;32mC:\\Program Files\\Csound6_x64\\bin\\ctcsound.py\u001b[0m in \u001b[0;36mmidiDevList\u001b[1;34m(self, isOutput)\u001b[0m\n\u001b[0;32m   1373\u001b[0m         \"\"\"\n\u001b[0;32m   1374\u001b[0m         \u001b[0mn\u001b[0m \u001b[1;33m=\u001b[0m \u001b[0mlibcsound\u001b[0m\u001b[1;33m.\u001b[0m\u001b[0mcsoundGetMIDIDevList\u001b[0m\u001b[1;33m(\u001b[0m\u001b[0mself\u001b[0m\u001b[1;33m.\u001b[0m\u001b[0mcs\u001b[0m\u001b[1;33m,\u001b[0m \u001b[1;32mNone\u001b[0m\u001b[1;33m,\u001b[0m \u001b[0mct\u001b[0m\u001b[1;33m.\u001b[0m\u001b[0mc_int\u001b[0m\u001b[1;33m(\u001b[0m\u001b[0misOutput\u001b[0m\u001b[1;33m)\u001b[0m\u001b[1;33m)\u001b[0m\u001b[1;33m\u001b[0m\u001b[1;33m\u001b[0m\u001b[0m\n\u001b[1;32m-> 1375\u001b[1;33m         \u001b[0mdevs\u001b[0m \u001b[1;33m=\u001b[0m \u001b[1;33m(\u001b[0m\u001b[0mcsoundMidiDevice\u001b[0m \u001b[1;33m*\u001b[0m \u001b[0mn\u001b[0m\u001b[1;33m)\u001b[0m\u001b[1;33m(\u001b[0m\u001b[1;33m)\u001b[0m\u001b[1;33m\u001b[0m\u001b[1;33m\u001b[0m\u001b[0m\n\u001b[0m\u001b[0;32m   1376\u001b[0m         \u001b[0mlibcsound\u001b[0m\u001b[1;33m.\u001b[0m\u001b[0mcsoundGetMIDIDevList\u001b[0m\u001b[1;33m(\u001b[0m\u001b[0mself\u001b[0m\u001b[1;33m.\u001b[0m\u001b[0mcs\u001b[0m\u001b[1;33m,\u001b[0m \u001b[0mct\u001b[0m\u001b[1;33m.\u001b[0m\u001b[0mbyref\u001b[0m\u001b[1;33m(\u001b[0m\u001b[0mdevs\u001b[0m\u001b[1;33m)\u001b[0m\u001b[1;33m,\u001b[0m \u001b[0mct\u001b[0m\u001b[1;33m.\u001b[0m\u001b[0mc_int\u001b[0m\u001b[1;33m(\u001b[0m\u001b[0misOutput\u001b[0m\u001b[1;33m)\u001b[0m\u001b[1;33m)\u001b[0m\u001b[1;33m\u001b[0m\u001b[1;33m\u001b[0m\u001b[0m\n\u001b[0;32m   1377\u001b[0m         \u001b[0mlst\u001b[0m \u001b[1;33m=\u001b[0m \u001b[1;33m[\u001b[0m\u001b[1;33m]\u001b[0m\u001b[1;33m\u001b[0m\u001b[1;33m\u001b[0m\u001b[0m\n",
      "\u001b[1;31mNameError\u001b[0m: name 'csoundMidiDevice' is not defined"
     ]
    }
   ],
   "source": [
    "cs.midiDevList(True)"
   ]
  },
  {
   "cell_type": "code",
   "execution_count": 19,
   "id": "worth-aging",
   "metadata": {},
   "outputs": [],
   "source": [
    "cs.stop()"
   ]
  },
  {
   "cell_type": "markdown",
   "id": "prepared-radical",
   "metadata": {},
   "source": [
    "\n",
    "# Pyrtmidi\n",
    "Looks interesting, but needs further installation for C++\n",
    "\n",
    "https://github.com/patrickkidd/pyrtmidi"
   ]
  },
  {
   "cell_type": "code",
   "execution_count": 40,
   "id": "based-pantyhose",
   "metadata": {},
   "outputs": [
    {
     "ename": "AttributeError",
     "evalue": "module 'rtmidi' has no attribute 'RtMidiIn'",
     "output_type": "error",
     "traceback": [
      "\u001b[1;31m---------------------------------------------------------------------------\u001b[0m",
      "\u001b[1;31mAttributeError\u001b[0m                            Traceback (most recent call last)",
      "\u001b[1;32m<ipython-input-40-09be29fee7bc>\u001b[0m in \u001b[0;36m<module>\u001b[1;34m\u001b[0m\n\u001b[0;32m      1\u001b[0m \u001b[1;32mimport\u001b[0m \u001b[0mrtmidi\u001b[0m\u001b[1;33m\u001b[0m\u001b[1;33m\u001b[0m\u001b[0m\n\u001b[0;32m      2\u001b[0m \u001b[1;33m\u001b[0m\u001b[0m\n\u001b[1;32m----> 3\u001b[1;33m \u001b[0mmidiin\u001b[0m \u001b[1;33m=\u001b[0m \u001b[0mrtmidi\u001b[0m\u001b[1;33m.\u001b[0m\u001b[0mRtMidiIn\u001b[0m\u001b[1;33m(\u001b[0m\u001b[1;33m)\u001b[0m\u001b[1;33m\u001b[0m\u001b[1;33m\u001b[0m\u001b[0m\n\u001b[0m\u001b[0;32m      4\u001b[0m \u001b[1;33m\u001b[0m\u001b[0m\n\u001b[0;32m      5\u001b[0m \u001b[1;32mdef\u001b[0m \u001b[0mprint_message\u001b[0m\u001b[1;33m(\u001b[0m\u001b[0mmidi\u001b[0m\u001b[1;33m)\u001b[0m\u001b[1;33m:\u001b[0m\u001b[1;33m\u001b[0m\u001b[1;33m\u001b[0m\u001b[0m\n",
      "\u001b[1;31mAttributeError\u001b[0m: module 'rtmidi' has no attribute 'RtMidiIn'"
     ]
    }
   ],
   "source": [
    "import rtmidi\n",
    "\n",
    "midiin = rtmidi.RtMidiIn()\n",
    "\n",
    "def print_message(midi):\n",
    "    if midi.isNoteOn():\n",
    "        print('ON: ', midi.getMidiNoteName(midi.getNoteNumber()), midi.getVelocity())\n",
    "    elif midi.isNoteOff():\n",
    "        print('OFF:', midi.getMidiNoteName(midi.getNoteNumber()))\n",
    "    elif midi.isController():\n",
    "        print('CONTROLLER', midi.getControllerNumber(), midi.getControllerValue())\n",
    "\n",
    "ports = range(midiin.getPortCount())\n",
    "if ports:\n",
    "    for i in ports:\n",
    "        print(midiin.getPortName(i))\n",
    "    print(\"Opening port 0!\") \n",
    "    midiin.openPort(0)\n",
    "    while True:\n",
    "        m = midiin.getMessage(250) # some timeout in ms\n",
    "        if m:\n",
    "            print_message(m)\n",
    "else:\n",
    "    print('NO MIDI INPUT PORTS!')"
   ]
  },
  {
   "cell_type": "markdown",
   "id": "perfect-fifth",
   "metadata": {},
   "source": [
    "# py-midi"
   ]
  },
  {
   "cell_type": "code",
   "execution_count": null,
   "id": "elementary-highland",
   "metadata": {},
   "outputs": [],
   "source": [
    "%pip uninstall py-midi"
   ]
  },
  {
   "cell_type": "code",
   "execution_count": 29,
   "id": "final-albuquerque",
   "metadata": {},
   "outputs": [],
   "source": [
    "import midi"
   ]
  },
  {
   "cell_type": "code",
   "execution_count": 33,
   "id": "thrown-scale",
   "metadata": {},
   "outputs": [
    {
     "data": {
      "text/plain": [
       "1"
      ]
     },
     "execution_count": 33,
     "metadata": {},
     "output_type": "execute_result"
    }
   ],
   "source": [
    "midi.midi.MidiConnector()"
   ]
  },
  {
   "cell_type": "code",
   "execution_count": 101,
   "id": "becoming-fancy",
   "metadata": {},
   "outputs": [],
   "source": [
    "idx = [4, 5, 0]\n",
    "names = [\"win\", \"linux\", \"mac\"]"
   ]
  },
  {
   "cell_type": "code",
   "execution_count": 104,
   "id": "severe-bubble",
   "metadata": {},
   "outputs": [],
   "source": [
    "api = []\n",
    "for idx, name in zip(idx, names):\n",
    "    dev = {\"idx\": idx,\n",
    "           \"name\": name}\n",
    "    api.append(dev.copy())"
   ]
  },
  {
   "cell_type": "code",
   "execution_count": 105,
   "id": "armed-opera",
   "metadata": {},
   "outputs": [
    {
     "data": {
      "text/plain": [
       "[{'idx': 4, 'name': 'win'},\n",
       " {'idx': 5, 'name': 'linux'},\n",
       " {'idx': 0, 'name': 'mac'}]"
      ]
     },
     "execution_count": 105,
     "metadata": {},
     "output_type": "execute_result"
    }
   ],
   "source": [
    "api"
   ]
  }
 ],
 "metadata": {
  "kernelspec": {
   "display_name": "Python 3",
   "language": "python",
   "name": "python3"
  },
  "language_info": {
   "codemirror_mode": {
    "name": "ipython",
    "version": 3
   },
   "file_extension": ".py",
   "mimetype": "text/x-python",
   "name": "python",
   "nbconvert_exporter": "python",
   "pygments_lexer": "ipython3",
   "version": "3.8.5"
  }
 },
 "nbformat": 4,
 "nbformat_minor": 5
}
