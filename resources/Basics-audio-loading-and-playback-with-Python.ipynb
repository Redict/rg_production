{
 "cells": [
  {
   "cell_type": "markdown",
   "id": "frozen-exhibition",
   "metadata": {},
   "source": [
    "# Basics audio loading and playback with Python\n",
    "\n",
    " * By: **Fernando Garcia** (fergarciadlc)\n",
    " * Date: February 2nd 2021\n",
    " * Description: Sample notebook to load and playback audio files and arrays\n",
    " \n",
    "For running this notebook make sure to have all dependencies installed with:\n",
    "    \n",
    "    (venv)$ pip install -r requirements-fernando.txt\n",
    "\n",
    "## Contents\n",
    "\n",
    " * [PyAudio](#PyAudio)\n",
    "  * [Blocking Mode Audio I/O](#Example:-Blocking-Mode-Audio-I/O)\n",
    "  * [Callback Mode Audio I/O](#Example:-Callback-Mode-Audio-I/O)\n",
    " * [Audio manipulation with Numpy-Scipy-SoundDevice](#Audio-manipulation-with-Numpy-Scipy-SoundDevice)\n",
    "  * [How to play a NumPy array with audio directly to a speaker](#Example)\n",
    " * [Other Alternatives](#Other-alternatives)\n",
    "  * [simpleaudio](#simpleaudio)\n",
    "  * [winsound](#winsound)\n",
    "  * [python sounddevice](#python-sounddevice)\n",
    "  * [pydub](#pydub)"
   ]
  },
  {
   "cell_type": "markdown",
   "id": "expected-charger",
   "metadata": {},
   "source": [
    "# PyAudio\n",
    "https://people.csail.mit.edu/hubert/pyaudio/docs/"
   ]
  },
  {
   "cell_type": "markdown",
   "id": "indie-salvation",
   "metadata": {},
   "source": [
    "## Example: Blocking Mode Audio I/O\n",
    "PyAudio provides Python bindings for PortAudio, the cross-platform audio I/O library. With PyAudio, you can easily use Python to play and record audio on a variety of platforms. PyAudio is inspired by:\n",
    "\n",
    " * pyPortAudio/fastaudio: Python bindings for PortAudio v18 API.\n",
    " * tkSnack: cross-platform sound toolkit for Tcl/Tk and Python.\n",
    " \n",
    "CLI Usage with sys"
   ]
  },
  {
   "cell_type": "code",
   "execution_count": 1,
   "id": "planned-strand",
   "metadata": {},
   "outputs": [],
   "source": [
    "\"\"\"PyAudio Example: Play a wave file.\"\"\"\n",
    "\n",
    "import pyaudio\n",
    "import wave\n",
    "import sys\n",
    "\n",
    "CHUNK = 1024\n",
    "\n",
    "# if len(sys.argv) < 2:\n",
    "#     print(\"Plays a wave file.\\n\\nUsage: %s filename.wav\" % sys.argv[0])\n",
    "#     sys.exit(-1)\n",
    "\n",
    "# wf = wave.open(sys.argv[1], 'rb')\n",
    "wf = wave.open(\"audiodata/e2.wav\", 'rb')\n",
    "\n",
    "# instantiate PyAudio (1)\n",
    "p = pyaudio.PyAudio()\n",
    "\n",
    "# open stream (2)\n",
    "stream = p.open(format=p.get_format_from_width(wf.getsampwidth()),\n",
    "                channels=wf.getnchannels(),\n",
    "                rate=wf.getframerate(),\n",
    "                output=True)\n",
    "\n",
    "# read data\n",
    "data = wf.readframes(CHUNK)\n",
    "\n",
    "# play stream (3)\n",
    "while len(data) > 0:\n",
    "    stream.write(data)\n",
    "    data = wf.readframes(CHUNK)\n",
    "\n",
    "# stop stream (4)\n",
    "stream.stop_stream()\n",
    "stream.close()\n",
    "\n",
    "# close PyAudio (5)\n",
    "p.terminate()"
   ]
  },
  {
   "cell_type": "markdown",
   "id": "criminal-reward",
   "metadata": {},
   "source": [
    "To use PyAudio, first instantiate PyAudio using **`pyaudio.PyAudio()`** (1), which sets up the portaudio system.\n",
    "\n",
    "To record or play audio, open a stream on the desired device with the desired audio parameters using **`pyaudio.PyAudio.open()`** (2). This sets up a **`pyaudio.Stream`** to play or record audio.\n",
    "\n",
    "Play audio by writing audio data to the stream using **`pyaudio.Stream.write()`**, or read audio data from the stream using **`pyaudio.Stream.read()`**. (3)\n",
    "\n",
    "Note that in \"blocking mode\", each **`pyaudio.Stream.write()`** or **`pyaudio.Stream.read()`** blocks until all the given/requested frames have been played/recorded. Alternatively, to generate audio data on the fly or immediately process recorded audio data, use the \"callback mode\" outlined below.\n",
    "\n",
    "Use **`pyaudio.Stream.stop_stream()`** to pause playing/recording, and **`pyaudio.Stream.close()`** to terminate the stream. (4)\n",
    "\n",
    "Finally, terminate the portaudio session using **`pyaudio.PyAudio.terminate()`** (5)"
   ]
  },
  {
   "cell_type": "markdown",
   "id": "excess-warren",
   "metadata": {},
   "source": [
    "# Example: Callback Mode Audio I/O\n",
    "In callback mode, PyAudio will call a specified callback function (2) whenever it needs new audio data (to play) and/or when there is new (recorded) audio data available. Note that PyAudio calls the callback function in a separate thread. The function has the following signature `callback(<input_data>, <frame_count>, <time_info>, <status_flag>)` and must return a tuple containing frame_count frames of audio data and a flag signifying whether there are more frames to play/record.\n",
    "\n",
    "Start processing the audio stream using **`pyaudio.Stream.start_stream()`** (4), which will call the callback function repeatedly until that function returns **`pyaudio.paComplete`**.\n",
    "\n",
    "To keep the stream active, the main thread must not terminate, e.g., by sleeping (5)."
   ]
  },
  {
   "cell_type": "code",
   "execution_count": 2,
   "id": "special-meditation",
   "metadata": {},
   "outputs": [],
   "source": [
    "\"\"\"PyAudio Example: Play a wave file (callback version).\"\"\"\n",
    "\n",
    "import pyaudio\n",
    "import wave\n",
    "import time\n",
    "import sys\n",
    "\n",
    "# if len(sys.argv) < 2:\n",
    "#     print(\"Plays a wave file.\\n\\nUsage: %s filename.wav\" % sys.argv[0])\n",
    "#     sys.exit(-1)\n",
    "\n",
    "# wf = wave.open(sys.argv[1], 'rb')\n",
    "wf = wave.open(\"audiodata/e2.wav\",'rb')\n",
    "\n",
    "# instantiate PyAudio (1)\n",
    "p = pyaudio.PyAudio()\n",
    "\n",
    "# define callback (2)\n",
    "def callback(in_data, frame_count, time_info, status):\n",
    "    data = wf.readframes(frame_count)\n",
    "    return (data, pyaudio.paContinue)\n",
    "\n",
    "# open stream using callback (3)\n",
    "stream = p.open(format=p.get_format_from_width(wf.getsampwidth()),\n",
    "                channels=wf.getnchannels(),\n",
    "                rate=wf.getframerate(),\n",
    "                output=True,\n",
    "                stream_callback=callback)\n",
    "\n",
    "# start the stream (4)\n",
    "stream.start_stream()\n",
    "\n",
    "# wait for stream to finish (5)\n",
    "while stream.is_active():\n",
    "    time.sleep(0.1)\n",
    "\n",
    "# stop stream (6)\n",
    "stream.stop_stream()\n",
    "stream.close()\n",
    "wf.close()\n",
    "\n",
    "# close PyAudio (7)\n",
    "p.terminate()"
   ]
  },
  {
   "cell_type": "markdown",
   "id": "editorial-scope",
   "metadata": {},
   "source": [
    "# Audio manipulation with Numpy-Scipy-SoundDevice"
   ]
  },
  {
   "cell_type": "code",
   "execution_count": 3,
   "id": "flush-living",
   "metadata": {},
   "outputs": [],
   "source": [
    "from scipy.io import wavfile\n",
    "import numpy as np\n",
    "import sounddevice as sd\n",
    "import matplotlib.pyplot as plt"
   ]
  },
  {
   "cell_type": "markdown",
   "id": "lonely-ceiling",
   "metadata": {},
   "source": [
    "### wavfie.read Docstring\n",
    "\n",
    "    Returns\n",
    "    -------\n",
    "    rate : int\n",
    "        Sample rate of WAV file.\n",
    "    data : numpy array\n",
    "        Data read from WAV file. Data-type is determined from the file;\n",
    "        see Notes.  Data is 1-D for 1-channel WAV, or 2-D of shape\n",
    "        (Nsamples, Nchannels) otherwise. If a file-like input without a\n",
    "        C-like file descriptor (e.g., :class:`python:io.BytesIO`) is\n",
    "        passed, this will not be writeable.\n",
    "\n",
    "    Notes\n",
    "    -----\n",
    "    Common data types: [1]_\n",
    "\n",
    "    =====================  ===========  ===========  =============\n",
    "         WAV format            Min          Max       NumPy dtype\n",
    "    =====================  ===========  ===========  =============\n",
    "    32-bit floating-point  -1.0         +1.0         float32\n",
    "    32-bit integer PCM     -2147483648  +2147483647  int32\n",
    "    24-bit integer PCM     -2147483648  +2147483392  int32\n",
    "    16-bit integer PCM     -32768       +32767       int16\n",
    "    8-bit integer PCM      0            255          uint8\n",
    "    =====================  ===========  ===========  ============="
   ]
  },
  {
   "cell_type": "code",
   "execution_count": 4,
   "id": "reverse-pizza",
   "metadata": {},
   "outputs": [
    {
     "name": "stderr",
     "output_type": "stream",
     "text": [
      "<ipython-input-4-d4e99bbbb700>:1: WavFileWarning: Chunk (non-data) not understood, skipping it.\n",
      "  fs, data = wavfile.read(\"audiodata/coronavirus.wav\")\n"
     ]
    }
   ],
   "source": [
    "fs, data = wavfile.read(\"audiodata/coronavirus.wav\")"
   ]
  },
  {
   "cell_type": "code",
   "execution_count": 5,
   "id": "ecological-challenge",
   "metadata": {},
   "outputs": [
    {
     "data": {
      "text/plain": [
       "44100"
      ]
     },
     "execution_count": 5,
     "metadata": {},
     "output_type": "execute_result"
    }
   ],
   "source": [
    "fs"
   ]
  },
  {
   "cell_type": "code",
   "execution_count": 6,
   "id": "regulated-september",
   "metadata": {},
   "outputs": [
    {
     "data": {
      "text/plain": [
       "numpy.ndarray"
      ]
     },
     "execution_count": 6,
     "metadata": {},
     "output_type": "execute_result"
    }
   ],
   "source": [
    "type(data)"
   ]
  },
  {
   "cell_type": "code",
   "execution_count": 7,
   "id": "flexible-palestinian",
   "metadata": {},
   "outputs": [],
   "source": [
    "# time axis\n",
    "x = np.arange(0,len(data)) / fs"
   ]
  },
  {
   "cell_type": "code",
   "execution_count": 8,
   "id": "creative-chrome",
   "metadata": {},
   "outputs": [
    {
     "data": {
      "image/png": "[encoded data removed]",
      "text/plain": [
       "<Figure size 864x360 with 1 Axes>"
      ]
     },
     "metadata": {
      "needs_background": "light"
     },
     "output_type": "display_data"
    }
   ],
   "source": [
    "plt.figure(figsize=(12,5))\n",
    "plt.plot(x, data)\n",
    "plt.xlabel(\"Time (s)\")\n",
    "plt.ylabel(\"Amplitude\")\n",
    "plt.show()\n",
    "sd.play(data, fs)"
   ]
  },
  {
   "cell_type": "markdown",
   "id": "dynamic-clause",
   "metadata": {},
   "source": [
    "# Example\n",
    "## How to play a NumPy array with audio directly to a speaker\n",
    "https://gist.github.com/akey7/94ff0b4a4caf70b98f0135c1cd79aff3"
   ]
  },
  {
   "cell_type": "code",
   "execution_count": 9,
   "id": "contrary-nelson",
   "metadata": {},
   "outputs": [
    {
     "data": {
      "image/png": "[encoded data removed]",
      "text/plain": [
       "<Figure size 576x288 with 1 Axes>"
      ]
     },
     "metadata": {
      "needs_background": "light"
     },
     "output_type": "display_data"
    }
   ],
   "source": [
    "\n",
    "# Use the sounddevice module\n",
    "# http://python-sounddevice.readthedocs.io/en/0.3.10/\n",
    "\n",
    "import numpy as np\n",
    "import sounddevice as sd\n",
    "import time\n",
    "\n",
    "# Samples per second\n",
    "sps = 44100\n",
    "\n",
    "# Frequency / pitch\n",
    "freq_hz = 440.0\n",
    "\n",
    "# Duration\n",
    "duration_s = 1.2\n",
    "\n",
    "# Attenuation so the sound is reasonable\n",
    "atten = 0.3\n",
    "\n",
    "# NumpPy magic to calculate the waveform\n",
    "each_sample_number = np.arange(duration_s * sps)\n",
    "waveform = np.sin(2 * np.pi * each_sample_number * freq_hz / sps)\n",
    "waveform_quiet = waveform * atten\n",
    "\n",
    "plt.figure(figsize=(8,4))\n",
    "plt.plot(waveform_quiet[:250])\n",
    "plt.show()\n",
    "\n",
    "# Play the waveform out the speakers\n",
    "sd.play(waveform_quiet, sps)\n",
    "time.sleep(duration_s)\n",
    "sd.stop()"
   ]
  },
  {
   "cell_type": "markdown",
   "id": "green-concrete",
   "metadata": {},
   "source": [
    "# Other alternatives\n",
    "https://realpython.com/playing-and-recording-sound-python/"
   ]
  },
  {
   "cell_type": "markdown",
   "id": "adopted-velvet",
   "metadata": {},
   "source": [
    "## simpleaudio\n",
    "\n",
    "    pip install --upgrade pip setuptools\n",
    "    pip install simpleaudio\n"
   ]
  },
  {
   "cell_type": "code",
   "execution_count": 10,
   "id": "perceived-distinction",
   "metadata": {},
   "outputs": [],
   "source": [
    "import time"
   ]
  },
  {
   "cell_type": "code",
   "execution_count": 11,
   "id": "distant-pastor",
   "metadata": {
    "scrolled": true
   },
   "outputs": [],
   "source": [
    "import simpleaudio as sa\n",
    "\n",
    "filename = 'audiodata/synth-gliss-a.wav'\n",
    "wave_obj = sa.WaveObject.from_wave_file(filename)\n",
    "play_obj = wave_obj.play()\n",
    "time.sleep(0.5)\n",
    "filename = 'audiodata/e2.wav'\n",
    "wave_obj = sa.WaveObject.from_wave_file(filename)\n",
    "play_obj = wave_obj.play()\n",
    "# play_obj.wait_done()  # Wait until sound has finished playing"
   ]
  },
  {
   "cell_type": "markdown",
   "id": "ongoing-content",
   "metadata": {},
   "source": [
    "WAV files contain a sequence of bits representing the raw audio data, as well as headers with metadata in RIFF (Resource Interchange File Format) format.\n",
    "\n",
    "For CD recordings, the industry standard is to store each audio sample (an individual audio datapoint relating to air pressure) as a 16-bit value, at 44100 samples per second.\n",
    "\n",
    "To reduce file size, it may be sufficient to store some recordings (for example of human speech) at a lower sampling rate, such as 8000 samples per second, although this does mean that higher sound frequencies may not be as accurately represented.\n",
    "\n",
    "A few of the libraries discussed in this tutorial play and record bytes objects, whereas others use NumPy arrays to store raw audio data.\n",
    "\n",
    "Both correspond to a sequence of data points that can be played back at a specified sample rate in order to play a sound. For a bytes object, each sample is stored as a set of two 8-bit values, whereas in a NumPy array, each element can contain a 16-bit value corresponding to a single sample.\n",
    "\n",
    "An important difference between these two data types is that bytes objects are immutable, whereas NumPy arrays are mutable, making the latter more suitable for generating sounds and for more complex signal processing.\n",
    "\n",
    "simpleaudio allows you to play NumPy and Python arrays and bytes objects using simpleaudio.play_buffer()"
   ]
  },
  {
   "cell_type": "code",
   "execution_count": 12,
   "id": "hispanic-syria",
   "metadata": {},
   "outputs": [],
   "source": [
    "frequency = 440  # Our played note will be 440 Hz\n",
    "fs = 44100  # 44100 samples per second\n",
    "seconds = 1  # Note duration of 1 second\n",
    "\n",
    "# Generate array with seconds*sample_rate steps, ranging between 0 and seconds\n",
    "t = np.linspace(0, seconds, seconds * fs, False)\n",
    "\n",
    "# Generate a 440 Hz sine wave\n",
    "note = np.sin(frequency * t * 2 * np.pi)\n",
    "\n",
    "# Ensure that highest value is in 16-bit range\n",
    "audio = note * (2**15 - 1) / np.max(np.abs(note))\n",
    "# Convert to 16-bit data\n",
    "audio = audio.astype(np.int16)\n",
    "\n",
    "# Start playback\n",
    "play_obj = sa.play_buffer(audio, 1, 2, fs)\n",
    "\n",
    "# Wait for playback to finish before exiting\n",
    "play_obj.wait_done()"
   ]
  },
  {
   "cell_type": "markdown",
   "id": "passive-coral",
   "metadata": {},
   "source": [
    "## winsound"
   ]
  },
  {
   "cell_type": "code",
   "execution_count": 13,
   "id": "greek-lambda",
   "metadata": {},
   "outputs": [],
   "source": [
    "import winsound\n",
    "\n",
    "filename = 'audiodata/e2.wav'\n",
    "winsound.PlaySound(filename, winsound.SND_FILENAME)"
   ]
  },
  {
   "cell_type": "code",
   "execution_count": 14,
   "id": "surrounded-slave",
   "metadata": {},
   "outputs": [],
   "source": [
    "winsound.Beep(1000, 100)  # Beep at 1000 Hz for 100 ms"
   ]
  },
  {
   "cell_type": "markdown",
   "id": "moved-grace",
   "metadata": {},
   "source": [
    "## python sounddevice"
   ]
  },
  {
   "cell_type": "code",
   "execution_count": 15,
   "id": "dangerous-claim",
   "metadata": {},
   "outputs": [],
   "source": [
    "import sounddevice as sd\n",
    "import soundfile as sf\n",
    "\n",
    "filename = 'audiodata/synth-gliss-a.wav'\n",
    "# Extract data and sampling rate from file\n",
    "data, fs = sf.read(filename, dtype='float32')  \n",
    "sd.play(data, fs)\n",
    "status = sd.wait()  # Wait until file is done playing"
   ]
  },
  {
   "cell_type": "markdown",
   "id": "ordinary-hostel",
   "metadata": {},
   "source": [
    "## pydub\n",
    "8 bit sounds awful!!"
   ]
  },
  {
   "cell_type": "code",
   "execution_count": 16,
   "id": "external-picking",
   "metadata": {},
   "outputs": [],
   "source": [
    "from pydub import AudioSegment\n",
    "from pydub.playback import play\n",
    "\n",
    "sound = AudioSegment.from_wav('audiodata/coronavirus.wav')\n",
    "play(sound)"
   ]
  }
 ],
 "metadata": {
  "kernelspec": {
   "display_name": "Python 3",
   "language": "python",
   "name": "python3"
  },
  "language_info": {
   "codemirror_mode": {
    "name": "ipython",
    "version": 3
   },
   "file_extension": ".py",
   "mimetype": "text/x-python",
   "name": "python",
   "nbconvert_exporter": "python",
   "pygments_lexer": "ipython3",
   "version": "3.8.5"
  }
 },
 "nbformat": 4,
 "nbformat_minor": 5
}
