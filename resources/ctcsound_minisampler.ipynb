{
 "cells": [
  {
   "cell_type": "code",
   "execution_count": 12,
   "id": "going-reaction",
   "metadata": {
    "scrolled": true
   },
   "outputs": [],
   "source": [
    "import ctcsound\n",
    "import os\n",
    "cs = ctcsound.Csound()"
   ]
  },
  {
   "cell_type": "code",
   "execution_count": 13,
   "id": "personalized-substance",
   "metadata": {},
   "outputs": [
    {
     "data": {
      "text/plain": [
       "0"
      ]
     },
     "execution_count": 13,
     "metadata": {},
     "output_type": "execute_result"
    }
   ],
   "source": [
    "\n",
    "csd = '''\n",
    "<CsoundSynthesizer>\n",
    "\n",
    "<CsOptions>\n",
    "  -d -o dac -m0\n",
    "</CsOptions>\n",
    "\n",
    "<CsInstruments>\n",
    "sr = 44100\n",
    "ksmps = 32\n",
    "nchnls = 2\n",
    "0dbfs = 1.0\n",
    "\n",
    "  instr 1 ; Sampler\n",
    "  \n",
    "  Sname = p5\n",
    "  ivol = p4\n",
    "  ipb = 1\n",
    "  inchs = filenchnls(Sname)\n",
    "\n",
    "\n",
    "  if inchs == 1 then\n",
    "\n",
    "  aLeft diskin2 Sname, ipb\n",
    "  \n",
    "  aL =  aLeft*p4\n",
    "  aR = aLeft*p4\n",
    "\n",
    "  else\n",
    "\n",
    "  aLeft, aRight diskin2 Sname, ipb\n",
    "\n",
    "  aL =  aLeft*p4\n",
    "  aR = aRight*p4\n",
    "\n",
    "  endif\n",
    "\n",
    "  outs aL,aR\n",
    "\n",
    "  endin\n",
    "  \n",
    "\n",
    "</CsInstruments>\n",
    "\n",
    "<CsScore>\n",
    "\n",
    "f 0 3600    ; 1 hour long empty score\n",
    "\n",
    "</CsScore>\n",
    "\n",
    "</CsoundSynthesizer>\n",
    "\n",
    "\n",
    "'''\n",
    "cs.compileCsdText(csd)\n",
    "cs.start()\n"
   ]
  },
  {
   "cell_type": "code",
   "execution_count": 14,
   "id": "collective-mobility",
   "metadata": {},
   "outputs": [],
   "source": [
    "pt = ctcsound.CsoundPerformanceThread(cs.csound())\n",
    "pt.play()\n"
   ]
  },
  {
   "cell_type": "code",
   "execution_count": null,
   "id": "aquatic-receipt",
   "metadata": {},
   "outputs": [],
   "source": [
    "work_dir = os.getcwd()\n",
    "sample = '/audiodata/e2.wav'\n",
    "\n",
    "sample_path = work_dir + sample\n",
    "\n",
    "\n",
    "sco = \"i 1 0 1 1 \" + '\\\"' + sample_path + '\\\"' \n",
    "cs.readScore(sco) \n",
    "\n",
    "sco"
   ]
  },
  {
   "cell_type": "code",
   "execution_count": 7,
   "id": "iraqi-toolbox",
   "metadata": {},
   "outputs": [],
   "source": [
    "\n"
   ]
  },
  {
   "cell_type": "code",
   "execution_count": 32,
   "id": "colonial-irish",
   "metadata": {},
   "outputs": [],
   "source": [
    "pt.stop()\n",
    "pt.join()\n",
    "cs.reset()"
   ]
  },
  {
   "cell_type": "code",
   "execution_count": null,
   "id": "assisted-payday",
   "metadata": {},
   "outputs": [],
   "source": []
  },
  {
   "cell_type": "code",
   "execution_count": null,
   "id": "sonic-booking",
   "metadata": {},
   "outputs": [],
   "source": []
  },
  {
   "cell_type": "code",
   "execution_count": null,
   "id": "addressed-accordance",
   "metadata": {},
   "outputs": [],
   "source": []
  }
 ],
 "metadata": {
  "kernelspec": {
   "display_name": "Python 3",
   "language": "python",
   "name": "python3"
  },
  "language_info": {
   "codemirror_mode": {
    "name": "ipython",
    "version": 3
   },
   "file_extension": ".py",
   "mimetype": "text/x-python",
   "name": "python",
   "nbconvert_exporter": "python",
   "pygments_lexer": "ipython3",
   "version": "3.9.1"
  }
 },
 "nbformat": 4,
 "nbformat_minor": 5
}
