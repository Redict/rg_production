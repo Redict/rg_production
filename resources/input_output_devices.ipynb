{
 "cells": [
  {
   "cell_type": "markdown",
   "id": "rough-ministry",
   "metadata": {},
   "source": [
    "# PyAudio Implementation\n",
    "\n",
    "* By: **Fernando Garcia** (fergarciadlc)\n",
    "* Date: 17 - Feb - 2021\n",
    "* Desc: Exploring system audio devices with PyAudio"
   ]
  },
  {
   "cell_type": "markdown",
   "id": "junior-dispute",
   "metadata": {},
   "source": [
    "## Testing functionalities for PyAudio"
   ]
  },
  {
   "cell_type": "code",
   "execution_count": null,
   "id": "distributed-wyoming",
   "metadata": {},
   "outputs": [],
   "source": [
    "import pyaudio"
   ]
  },
  {
   "cell_type": "code",
   "execution_count": 1,
   "id": "parliamentary-funds",
   "metadata": {},
   "outputs": [],
   "source": [
    "p = pyaudio.PyAudio()\n",
    "\n",
    "def get_audio_devices(p):\n",
    "    devs = []\n",
    "    for i in range(p.get_device_count()):\n",
    "        devs.append(p.get_device_info_by_index(i))\n",
    "    \n",
    "    input_dev = p.get_default_input_device_info()\n",
    "    output_dev = p.get_default_output_device_info()\n",
    "    \n",
    "    return devs, input_dev, output_dev\n",
    "\n",
    "devs, input_dev, output_dev = get_audio_devices(p)"
   ]
  },
  {
   "cell_type": "code",
   "execution_count": 3,
   "id": "worldwide-final",
   "metadata": {},
   "outputs": [
    {
     "data": {
      "text/plain": [
       "{'index': 1,\n",
       " 'structVersion': 2,\n",
       " 'name': 'Micrófono (Realtek High Definit',\n",
       " 'hostApi': 0,\n",
       " 'maxInputChannels': 2,\n",
       " 'maxOutputChannels': 0,\n",
       " 'defaultLowInputLatency': 0.09,\n",
       " 'defaultLowOutputLatency': 0.09,\n",
       " 'defaultHighInputLatency': 0.18,\n",
       " 'defaultHighOutputLatency': 0.18,\n",
       " 'defaultSampleRate': 44100.0}"
      ]
     },
     "execution_count": 3,
     "metadata": {},
     "output_type": "execute_result"
    }
   ],
   "source": [
    "input_dev"
   ]
  },
  {
   "cell_type": "code",
   "execution_count": 4,
   "id": "annual-appeal",
   "metadata": {},
   "outputs": [
    {
     "data": {
      "text/plain": [
       "{'index': 4,\n",
       " 'structVersion': 2,\n",
       " 'name': 'Altavoz/Auricular (Realtek High',\n",
       " 'hostApi': 0,\n",
       " 'maxInputChannels': 0,\n",
       " 'maxOutputChannels': 2,\n",
       " 'defaultLowInputLatency': 0.09,\n",
       " 'defaultLowOutputLatency': 0.09,\n",
       " 'defaultHighInputLatency': 0.18,\n",
       " 'defaultHighOutputLatency': 0.18,\n",
       " 'defaultSampleRate': 44100.0}"
      ]
     },
     "execution_count": 4,
     "metadata": {},
     "output_type": "execute_result"
    }
   ],
   "source": [
    "output_dev"
   ]
  },
  {
   "cell_type": "code",
   "execution_count": 22,
   "id": "leading-dependence",
   "metadata": {
    "scrolled": true
   },
   "outputs": [
    {
     "data": {
      "text/plain": [
       "51"
      ]
     },
     "execution_count": 22,
     "metadata": {},
     "output_type": "execute_result"
    }
   ],
   "source": [
    "# Audio Devices (run to see the whole list)\n",
    "len(devs)\n",
    "# devs"
   ]
  },
  {
   "cell_type": "markdown",
   "id": "incorrect-dependence",
   "metadata": {},
   "source": [
    "Notice that **input devices** have `'maxOutputChannels': 0`, whereas **output devices** have `'maxInputChannels': 0`"
   ]
  },
  {
   "cell_type": "code",
   "execution_count": 29,
   "id": "precious-skirt",
   "metadata": {},
   "outputs": [],
   "source": [
    "audio_device = {\n",
    "    \"in\": \"\",\n",
    "    \"out\": \"\",\n",
    "    \"devices\": {\n",
    "        \"input_list\": [],\n",
    "        \"output_list\": []\n",
    "    }\n",
    "}   "
   ]
  },
  {
   "cell_type": "code",
   "execution_count": 16,
   "id": "aerial-stamp",
   "metadata": {},
   "outputs": [],
   "source": [
    "p = pyaudio.PyAudio()\n",
    "\n",
    "def get_audio_devices(p):\n",
    "    audio_device = {\n",
    "        \"in\": \"\",\n",
    "        \"out\": \"\",\n",
    "        \"devices\": {\n",
    "            \"input_list\": [],\n",
    "            \"output_list\": []\n",
    "        }\n",
    "    }\n",
    "    \n",
    "    input_list = []\n",
    "    output_list = []\n",
    "    for i in range(p.get_device_count()):\n",
    "        \n",
    "        device = p.get_device_info_by_index(i)\n",
    "        \n",
    "        if device[\"maxInputChannels\"] > 0:\n",
    "            input_list.append(device)\n",
    "        \n",
    "        if device[\"maxOutputChannels\"] > 0:\n",
    "            output_list.append(device)\n",
    "    \n",
    "    audio_device[\"in\"] = p.get_default_input_device_info()\n",
    "    audio_device[\"out\"] = p.get_default_output_device_info()\n",
    "    audio_device[\"devices\"][\"input_list\"] = input_list\n",
    "    audio_device[\"devices\"][\"output_list\"] = output_list\n",
    "    \n",
    "    return audio_device\n",
    "\n",
    "audio_device = get_audio_devices(p)"
   ]
  },
  {
   "cell_type": "markdown",
   "id": "accurate-dayton",
   "metadata": {},
   "source": [
    "### Run the cell below to see the whole dictionary of audio devices (51 devices listed!!!)"
   ]
  },
  {
   "cell_type": "code",
   "execution_count": 28,
   "id": "assisted-customs",
   "metadata": {
    "scrolled": true
   },
   "outputs": [],
   "source": [
    "import json \n",
    "print(\"audio_device =\", json.dumps(audio_device, indent=2))"
   ]
  },
  {
   "cell_type": "markdown",
   "id": "disabled-confidentiality",
   "metadata": {},
   "source": [
    "# Prevent redundancy\n",
    "##  get_device_info_by_index , or\n",
    "## get_device_info_by_host_api_device_index\n",
    "\n",
    "**From PyAudio [documentation](https://people.csail.mit.edu/hubert/pyaudio/docs/#pyaudio.PyAudio.get_device_info_by_host_api_device_index)**\n",
    "\n",
    "**`get_device_info_by_host_api_device_index(host_api_index, host_api_device_index)`**\n",
    "        \n",
    "    Return a dictionary containing the Device parameters for a given Host API’s n’th device. The keys of the dictionary mirror the data fields of PortAudio’s PaDeviceInfo structure.\n",
    "\n",
    "    Parameters:\t\n",
    "    host_api_index – The Host API index number\n",
    "    host_api_device_index – The n’th device of the host API\n",
    "    Raises:\t\n",
    "    IOError – for invalid indices\n",
    "\n",
    "    Return type:\t\n",
    "    dict\n",
    "\n",
    "**`get_device_info_by_index(device_index)`**\n",
    "\n",
    "    Return the Device parameters for device specified in device_index as a dictionary. The keys of the dictionary mirror the data fields of PortAudio’s PaDeviceInfo structure.\n",
    "\n",
    "    Parameters:\tdevice_index – The device index\n",
    "    Raises:\tIOError – Invalid device_index.\n",
    "    Return type:\tdict"
   ]
  },
  {
   "cell_type": "code",
   "execution_count": 32,
   "id": "australian-mattress",
   "metadata": {},
   "outputs": [],
   "source": [
    "p = pyaudio.PyAudio()\n",
    "\n",
    "def get_audio_devices(p):\n",
    "    audio_device = {\n",
    "        \"in\": \"\",\n",
    "        \"out\": \"\",\n",
    "        \"devices\": {\n",
    "            \"input_list\": [],\n",
    "            \"output_list\": []\n",
    "        }\n",
    "    }\n",
    "    \n",
    "    input_list = []\n",
    "    output_list = []\n",
    "    \n",
    "    info = p.get_host_api_info_by_index(0)\n",
    "    numdevices = info.get('deviceCount')\n",
    "    \n",
    "    for i in range(numdevices):\n",
    "\n",
    "        device = p.get_device_info_by_host_api_device_index(0, i) # HOSTAPI 0\n",
    "        \n",
    "        if device[\"maxInputChannels\"] > 0:\n",
    "            input_list.append(device)\n",
    "        \n",
    "        if device[\"maxOutputChannels\"] > 0:\n",
    "            output_list.append(device)\n",
    "    \n",
    "    audio_device[\"in\"] = p.get_default_input_device_info()\n",
    "    audio_device[\"out\"] = p.get_default_output_device_info()\n",
    "    audio_device[\"devices\"][\"input_list\"] = input_list\n",
    "    audio_device[\"devices\"][\"output_list\"] = output_list\n",
    "    \n",
    "    return audio_device\n",
    "\n",
    "audio_device = get_audio_devices(p)"
   ]
  },
  {
   "cell_type": "markdown",
   "id": "initial-cloud",
   "metadata": {},
   "source": [
    "### much better!"
   ]
  },
  {
   "cell_type": "code",
   "execution_count": 37,
   "id": "peaceful-consent",
   "metadata": {},
   "outputs": [
    {
     "name": "stdout",
     "output_type": "stream",
     "text": [
      "audio_device = {\n",
      "    \"in\": {\n",
      "        \"index\": 1,\n",
      "        \"structVersion\": 2,\n",
      "        \"name\": \"Micr\\u00f3fono (Realtek High Definit\",\n",
      "        \"hostApi\": 0,\n",
      "        \"maxInputChannels\": 2,\n",
      "        \"maxOutputChannels\": 0,\n",
      "        \"defaultLowInputLatency\": 0.09,\n",
      "        \"defaultLowOutputLatency\": 0.09,\n",
      "        \"defaultHighInputLatency\": 0.18,\n",
      "        \"defaultHighOutputLatency\": 0.18,\n",
      "        \"defaultSampleRate\": 44100.0\n",
      "    },\n",
      "    \"out\": {\n",
      "        \"index\": 4,\n",
      "        \"structVersion\": 2,\n",
      "        \"name\": \"Altavoz/Auricular (Realtek High\",\n",
      "        \"hostApi\": 0,\n",
      "        \"maxInputChannels\": 0,\n",
      "        \"maxOutputChannels\": 2,\n",
      "        \"defaultLowInputLatency\": 0.09,\n",
      "        \"defaultLowOutputLatency\": 0.09,\n",
      "        \"defaultHighInputLatency\": 0.18,\n",
      "        \"defaultHighOutputLatency\": 0.18,\n",
      "        \"defaultSampleRate\": 44100.0\n",
      "    },\n",
      "    \"devices\": {\n",
      "        \"input_list\": [\n",
      "            {\n",
      "                \"index\": 0,\n",
      "                \"structVersion\": 2,\n",
      "                \"name\": \"Asignador de sonido Microsoft - Input\",\n",
      "                \"hostApi\": 0,\n",
      "                \"maxInputChannels\": 2,\n",
      "                \"maxOutputChannels\": 0,\n",
      "                \"defaultLowInputLatency\": 0.09,\n",
      "                \"defaultLowOutputLatency\": 0.09,\n",
      "                \"defaultHighInputLatency\": 0.18,\n",
      "                \"defaultHighOutputLatency\": 0.18,\n",
      "                \"defaultSampleRate\": 44100.0\n",
      "            },\n",
      "            {\n",
      "                \"index\": 1,\n",
      "                \"structVersion\": 2,\n",
      "                \"name\": \"Micr\\u00f3fono (Realtek High Definit\",\n",
      "                \"hostApi\": 0,\n",
      "                \"maxInputChannels\": 2,\n",
      "                \"maxOutputChannels\": 0,\n",
      "                \"defaultLowInputLatency\": 0.09,\n",
      "                \"defaultLowOutputLatency\": 0.09,\n",
      "                \"defaultHighInputLatency\": 0.18,\n",
      "                \"defaultHighOutputLatency\": 0.18,\n",
      "                \"defaultSampleRate\": 44100.0\n",
      "            },\n",
      "            {\n",
      "                \"index\": 2,\n",
      "                \"structVersion\": 2,\n",
      "                \"name\": \"Mezcla est\\u00e9reo (Realtek High De\",\n",
      "                \"hostApi\": 0,\n",
      "                \"maxInputChannels\": 2,\n",
      "                \"maxOutputChannels\": 0,\n",
      "                \"defaultLowInputLatency\": 0.09,\n",
      "                \"defaultLowOutputLatency\": 0.09,\n",
      "                \"defaultHighInputLatency\": 0.18,\n",
      "                \"defaultHighOutputLatency\": 0.18,\n",
      "                \"defaultSampleRate\": 44100.0\n",
      "            }\n",
      "        ],\n",
      "        \"output_list\": [\n",
      "            {\n",
      "                \"index\": 3,\n",
      "                \"structVersion\": 2,\n",
      "                \"name\": \"Asignador de sonido Microsoft - Output\",\n",
      "                \"hostApi\": 0,\n",
      "                \"maxInputChannels\": 0,\n",
      "                \"maxOutputChannels\": 2,\n",
      "                \"defaultLowInputLatency\": 0.09,\n",
      "                \"defaultLowOutputLatency\": 0.09,\n",
      "                \"defaultHighInputLatency\": 0.18,\n",
      "                \"defaultHighOutputLatency\": 0.18,\n",
      "                \"defaultSampleRate\": 44100.0\n",
      "            },\n",
      "            {\n",
      "                \"index\": 4,\n",
      "                \"structVersion\": 2,\n",
      "                \"name\": \"Altavoz/Auricular (Realtek High\",\n",
      "                \"hostApi\": 0,\n",
      "                \"maxInputChannels\": 0,\n",
      "                \"maxOutputChannels\": 2,\n",
      "                \"defaultLowInputLatency\": 0.09,\n",
      "                \"defaultLowOutputLatency\": 0.09,\n",
      "                \"defaultHighInputLatency\": 0.18,\n",
      "                \"defaultHighOutputLatency\": 0.18,\n",
      "                \"defaultSampleRate\": 44100.0\n",
      "            }\n",
      "        ]\n",
      "    }\n",
      "}\n"
     ]
    }
   ],
   "source": [
    "print(\"audio_device =\", json.dumps(audio_device, indent=4))"
   ]
  },
  {
   "cell_type": "markdown",
   "id": "effective-harrison",
   "metadata": {},
   "source": [
    "### we can reassign the current input and output device from the list of devices"
   ]
  },
  {
   "cell_type": "code",
   "execution_count": 39,
   "id": "graduate-basketball",
   "metadata": {},
   "outputs": [
    {
     "name": "stdout",
     "output_type": "stream",
     "text": [
      "audio_device = {\n",
      "    \"in\": {\n",
      "        \"index\": 0,\n",
      "        \"structVersion\": 2,\n",
      "        \"name\": \"Asignador de sonido Microsoft - Input\",\n",
      "        \"hostApi\": 0,\n",
      "        \"maxInputChannels\": 2,\n",
      "        \"maxOutputChannels\": 0,\n",
      "        \"defaultLowInputLatency\": 0.09,\n",
      "        \"defaultLowOutputLatency\": 0.09,\n",
      "        \"defaultHighInputLatency\": 0.18,\n",
      "        \"defaultHighOutputLatency\": 0.18,\n",
      "        \"defaultSampleRate\": 44100.0\n",
      "    },\n",
      "    \"out\": {\n",
      "        \"index\": 3,\n",
      "        \"structVersion\": 2,\n",
      "        \"name\": \"Asignador de sonido Microsoft - Output\",\n",
      "        \"hostApi\": 0,\n",
      "        \"maxInputChannels\": 0,\n",
      "        \"maxOutputChannels\": 2,\n",
      "        \"defaultLowInputLatency\": 0.09,\n",
      "        \"defaultLowOutputLatency\": 0.09,\n",
      "        \"defaultHighInputLatency\": 0.18,\n",
      "        \"defaultHighOutputLatency\": 0.18,\n",
      "        \"defaultSampleRate\": 44100.0\n",
      "    },\n",
      "    \"devices\": {\n",
      "        \"input_list\": [\n",
      "            {\n",
      "                \"index\": 0,\n",
      "                \"structVersion\": 2,\n",
      "                \"name\": \"Asignador de sonido Microsoft - Input\",\n",
      "                \"hostApi\": 0,\n",
      "                \"maxInputChannels\": 2,\n",
      "                \"maxOutputChannels\": 0,\n",
      "                \"defaultLowInputLatency\": 0.09,\n",
      "                \"defaultLowOutputLatency\": 0.09,\n",
      "                \"defaultHighInputLatency\": 0.18,\n",
      "                \"defaultHighOutputLatency\": 0.18,\n",
      "                \"defaultSampleRate\": 44100.0\n",
      "            },\n",
      "            {\n",
      "                \"index\": 1,\n",
      "                \"structVersion\": 2,\n",
      "                \"name\": \"Micr\\u00f3fono (Realtek High Definit\",\n",
      "                \"hostApi\": 0,\n",
      "                \"maxInputChannels\": 2,\n",
      "                \"maxOutputChannels\": 0,\n",
      "                \"defaultLowInputLatency\": 0.09,\n",
      "                \"defaultLowOutputLatency\": 0.09,\n",
      "                \"defaultHighInputLatency\": 0.18,\n",
      "                \"defaultHighOutputLatency\": 0.18,\n",
      "                \"defaultSampleRate\": 44100.0\n",
      "            },\n",
      "            {\n",
      "                \"index\": 2,\n",
      "                \"structVersion\": 2,\n",
      "                \"name\": \"Mezcla est\\u00e9reo (Realtek High De\",\n",
      "                \"hostApi\": 0,\n",
      "                \"maxInputChannels\": 2,\n",
      "                \"maxOutputChannels\": 0,\n",
      "                \"defaultLowInputLatency\": 0.09,\n",
      "                \"defaultLowOutputLatency\": 0.09,\n",
      "                \"defaultHighInputLatency\": 0.18,\n",
      "                \"defaultHighOutputLatency\": 0.18,\n",
      "                \"defaultSampleRate\": 44100.0\n",
      "            }\n",
      "        ],\n",
      "        \"output_list\": [\n",
      "            {\n",
      "                \"index\": 3,\n",
      "                \"structVersion\": 2,\n",
      "                \"name\": \"Asignador de sonido Microsoft - Output\",\n",
      "                \"hostApi\": 0,\n",
      "                \"maxInputChannels\": 0,\n",
      "                \"maxOutputChannels\": 2,\n",
      "                \"defaultLowInputLatency\": 0.09,\n",
      "                \"defaultLowOutputLatency\": 0.09,\n",
      "                \"defaultHighInputLatency\": 0.18,\n",
      "                \"defaultHighOutputLatency\": 0.18,\n",
      "                \"defaultSampleRate\": 44100.0\n",
      "            },\n",
      "            {\n",
      "                \"index\": 4,\n",
      "                \"structVersion\": 2,\n",
      "                \"name\": \"Altavoz/Auricular (Realtek High\",\n",
      "                \"hostApi\": 0,\n",
      "                \"maxInputChannels\": 0,\n",
      "                \"maxOutputChannels\": 2,\n",
      "                \"defaultLowInputLatency\": 0.09,\n",
      "                \"defaultLowOutputLatency\": 0.09,\n",
      "                \"defaultHighInputLatency\": 0.18,\n",
      "                \"defaultHighOutputLatency\": 0.18,\n",
      "                \"defaultSampleRate\": 44100.0\n",
      "            }\n",
      "        ]\n",
      "    }\n",
      "}\n"
     ]
    }
   ],
   "source": [
    "audio_device[\"in\"] = audio_device[\"devices\"][\"input_list\"][0]\n",
    "audio_device[\"out\"] = audio_device[\"devices\"][\"output_list\"][0]\n",
    "print(\"audio_device =\", json.dumps(audio_device, indent=4))"
   ]
  },
  {
   "cell_type": "code",
   "execution_count": null,
   "id": "informed-customer",
   "metadata": {},
   "outputs": [],
   "source": []
  },
  {
   "cell_type": "code",
   "execution_count": null,
   "id": "automated-stone",
   "metadata": {},
   "outputs": [],
   "source": []
  },
  {
   "cell_type": "code",
   "execution_count": null,
   "id": "eleven-tracy",
   "metadata": {},
   "outputs": [],
   "source": []
  },
  {
   "cell_type": "markdown",
   "id": "emotional-infrastructure",
   "metadata": {},
   "source": [
    "# Testing..."
   ]
  },
  {
   "cell_type": "markdown",
   "id": "systematic-integer",
   "metadata": {},
   "source": [
    "## SoundDevice"
   ]
  },
  {
   "cell_type": "code",
   "execution_count": 8,
   "id": "fifth-camping",
   "metadata": {},
   "outputs": [
    {
     "data": {
      "text/plain": [
       "   0 Asignador de sonido Microsoft - Input, MME (2 in, 0 out)\n",
       ">  1 Mic in at front panel (black) (, MME (2 in, 0 out)\n",
       "   2 Micrófono (Realtek High Definit, MME (2 in, 0 out)\n",
       "   3 Mezcla estéreo (Realtek High De, MME (2 in, 0 out)\n",
       "   4 Asignador de sonido Microsoft - Output, MME (0 in, 2 out)\n",
       "<  5 Altavoz/Auricular (Realtek High, MME (0 in, 2 out)\n",
       "   6 1 - NS19D220MX16A (AMD High Def, MME (0 in, 2 out)\n",
       "   7 Controlador primario de captura de sonido, Windows DirectSound (2 in, 0 out)\n",
       "   8 Mic in at front panel (black) (Realtek High Definition Audio), Windows DirectSound (2 in, 0 out)\n",
       "   9 Micrófono (Realtek High Definition Audio), Windows DirectSound (2 in, 0 out)\n",
       "  10 Mezcla estéreo (Realtek High Definition Audio), Windows DirectSound (2 in, 0 out)\n",
       "  11 Controlador primario de sonido, Windows DirectSound (0 in, 2 out)\n",
       "  12 Altavoz/Auricular (Realtek High Definition Audio), Windows DirectSound (0 in, 2 out)\n",
       "  13 1 - NS19D220MX16A (AMD High Definition Audio Device), Windows DirectSound (0 in, 2 out)\n",
       "  14 1 - NS19D220MX16A (AMD High Definition Audio Device), Windows WASAPI (0 in, 2 out)\n",
       "  15 Altavoz/Auricular (Realtek High Definition Audio), Windows WASAPI (0 in, 2 out)\n",
       "  16 Mic in at front panel (black) (Realtek High Definition Audio), Windows WASAPI (2 in, 0 out)\n",
       "  17 Micrófono (Realtek High Definition Audio), Windows WASAPI (2 in, 0 out)\n",
       "  18 Mezcla estéreo (Realtek High Definition Audio), Windows WASAPI (2 in, 0 out)\n",
       "  19 Mic in at front panel (black) (Mic in at front panel (black)), Windows WDM-KS (2 in, 0 out)\n",
       "  20 Mezcla estéreo (Realtek HD Audio Stereo input), Windows WDM-KS (2 in, 0 out)\n",
       "  21 Speakers (Realtek HD Audio output), Windows WDM-KS (0 in, 2 out)\n",
       "  22 Micrófono (Realtek HD Audio Mic input), Windows WDM-KS (2 in, 0 out)\n",
       "  23 Output (AMD HD Audio HDMI out #0), Windows WDM-KS (0 in, 2 out)"
      ]
     },
     "execution_count": 8,
     "metadata": {},
     "output_type": "execute_result"
    }
   ],
   "source": [
    "import sounddevice as sd\n",
    "sd.query_devices()\n",
    "list(sd.query_devices())"
   ]
  },
  {
   "cell_type": "code",
   "execution_count": 38,
   "id": "retired-philadelphia",
   "metadata": {},
   "outputs": [
    {
     "name": "stdout",
     "output_type": "stream",
     "text": [
      "Input Device id  0  -  Asignador de sonido Microsoft - Input\n",
      "Input Device id  1  -  Micrófono (Realtek High Definit\n",
      "Input Device id  2  -  Mezcla estéreo (Realtek High De\n",
      "Output Device id  3  -  Asignador de sonido Microsoft - Output\n",
      "Output Device id  4  -  Altavoz/Auricular (Realtek High\n",
      "Selected device is  Micrófono (Realtek High Definit\n",
      "Yay!\n"
     ]
    }
   ],
   "source": [
    "import pyaudio\n",
    "# https://gist.github.com/mansam/9332445\n",
    "p = pyaudio.PyAudio()\n",
    "info = p.get_host_api_info_by_index(0)\n",
    "numdevices = info.get('deviceCount')\n",
    "#for each audio device, determine if is an input or an output and add it to the appropriate list and dictionary\n",
    "for i in range (0,numdevices):\n",
    "        if p.get_device_info_by_host_api_device_index(0,i).get('maxInputChannels')>0:\n",
    "                print(\"Input Device id \", i, \" - \", p.get_device_info_by_host_api_device_index(0,i).get('name'))\n",
    "\n",
    "        if p.get_device_info_by_host_api_device_index(0,i).get('maxOutputChannels')>0:\n",
    "                print(\"Output Device id \", i, \" - \", p.get_device_info_by_host_api_device_index(0,i).get('name'))\n",
    "\n",
    "devinfo = p.get_device_info_by_index(1)\n",
    "print(\"Selected device is \",devinfo.get('name'))\n",
    "if p.is_format_supported(44100.0,  # Sample rate\n",
    "                         input_device=devinfo[\"index\"],\n",
    "                         input_channels=devinfo['maxInputChannels'],\n",
    "                         input_format=pyaudio.paInt16):\n",
    "      print('Yay!')\n",
    "p.terminate()"
   ]
  },
  {
   "cell_type": "code",
   "execution_count": 27,
   "id": "large-quarterly",
   "metadata": {},
   "outputs": [
    {
     "data": {
      "text/plain": [
       "{'index': 0,\n",
       " 'structVersion': 1,\n",
       " 'type': 2,\n",
       " 'name': 'MME',\n",
       " 'deviceCount': 5,\n",
       " 'defaultInputDevice': 1,\n",
       " 'defaultOutputDevice': 4}"
      ]
     },
     "execution_count": 27,
     "metadata": {},
     "output_type": "execute_result"
    }
   ],
   "source": [
    "p.get_default_host_api_info()"
   ]
  }
 ],
 "metadata": {
  "kernelspec": {
   "display_name": "Python 3",
   "language": "python",
   "name": "python3"
  },
  "language_info": {
   "codemirror_mode": {
    "name": "ipython",
    "version": 3
   },
   "file_extension": ".py",
   "mimetype": "text/x-python",
   "name": "python",
   "nbconvert_exporter": "python",
   "pygments_lexer": "ipython3",
   "version": "3.8.5"
  }
 },
 "nbformat": 4,
 "nbformat_minor": 5
}
