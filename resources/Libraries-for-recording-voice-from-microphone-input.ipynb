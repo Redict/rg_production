{
 "cells": [
  {
   "cell_type": "markdown",
   "metadata": {},
   "source": [
    "# Libraries for recording voice from microphone input\n",
    " \n",
    "* By: Farooq Shaik (farooqfox)\n",
    "* Date: February 11th 2021\n",
    "* Description: Exploring basic pros and cons of voice recording libraries"
   ]
  },
  {
   "cell_type": "markdown",
   "metadata": {},
   "source": [
    "# Speech Recognition\n",
    "\n",
    "1. Records indefinitely until you pause for few seconds\n",
    "2. Generates text from voice, can also save as .wav \n",
    "3. Appropriate for our use case as we just habe to tap and not hold the 'record' button?\n",
    "4. Very straight forward, didnt face any issues getting it to work"
   ]
  },
  {
   "cell_type": "code",
   "execution_count": 95,
   "metadata": {},
   "outputs": [
    {
     "name": "stdout",
     "output_type": "stream",
     "text": [
      "give me a hi hat\n"
     ]
    }
   ],
   "source": [
    "# speechrecognition is dependant on pyAudio\n",
    "# install pyAudio based on your python version from files at https://www.lfd.uci.edu/~gohlke/pythonlibs/#pyaudio\n",
    "# install speechrecognition\n",
    "\n",
    "import speech_recognition as sr\n",
    "r = sr.Recognizer()\n",
    "with sr.Microphone() as source:\n",
    "    audio = r.listen(source)\n",
    "    \n",
    "    try: \n",
    "        print(r.recognize_google(audio))\n",
    "        \n",
    "    except Exception as e:\n",
    "        print('exception:' + str(e))\n",
    "        \n",
    "with open(\"recording_sr.wav\", \"wb\") as f:\n",
    "    f.write(audio.get_wav_data())"
   ]
  },
  {
   "cell_type": "markdown",
   "metadata": {},
   "source": [
    "# Sound device\n",
    "\n",
    "1. Has both record and play capability\n",
    "2. stores recording as a numpy array, can be converted to .wav too\n",
    "3. can't troubleshoot an error"
   ]
  },
  {
   "cell_type": "code",
   "execution_count": 71,
   "metadata": {},
   "outputs": [],
   "source": [
    "#install sounddevice\n",
    "import sounddevice as sd\n",
    "import soundfile as sf\n",
    "\n",
    "# recording \n",
    "duration = 3.5  # seconds\n",
    "myrecording = sd.rec(int(duration * fs), samplerate=fs, channels=2, dtype='float64')\n",
    "# need to troubleshoot error : PortAudioError: Error querying device -1\n",
    "sf.write('record1.wav', myrecording, sampling_frequency)"
   ]
  },
  {
   "cell_type": "code",
   "execution_count": null,
   "metadata": {},
   "outputs": [],
   "source": [
    "# playback\n",
    "filename = 'metallic-beat-short.wav'\n",
    "data, fs = sf.read(filename, dtype='float64')   # Extract data and sampling rate from file\n",
    "sd.play(data, fs) \n",
    "status = sd.wait()   # Wait until file is done playing"
   ]
  },
  {
   "cell_type": "markdown",
   "metadata": {},
   "source": [
    "# PyAudio\n",
    "1. Has both record and play capability\n",
    "2. stores recording as a numpy array\n",
    "3. didnt face any issues getting it to work"
   ]
  },
  {
   "cell_type": "code",
   "execution_count": 97,
   "metadata": {},
   "outputs": [
    {
     "name": "stdout",
     "output_type": "stream",
     "text": [
      "recording started\n",
      "recording stopped\n"
     ]
    }
   ],
   "source": [
    "import pyaudio\n",
    "import wave\n",
    " \n",
    "FORMAT = pyaudio.paInt16\n",
    "CHANNELS = 1\n",
    "RATE = 44100\n",
    "CHUNK = 512\n",
    "RECORD_SECONDS = 5\n",
    "WAVE_OUTPUT_FILENAME = \"recordedFile.wav\"\n",
    "device_index = 2\n",
    "\n",
    "# instantiate PyAudio \n",
    "audio = pyaudio.PyAudio()\n",
    "\n",
    "''' this piece of code lets you pick your device from the list of available ones.\n",
    "print(\"----------------------record device list---------------------\")\n",
    "info = audio.get_host_api_info_by_index(0)\n",
    "numdevices = info.get('deviceCount')\n",
    "for i in range(0, numdevices):\n",
    "        if (audio.get_device_info_by_host_api_device_index(0, i).get('maxInputChannels')) > 0:\n",
    "            print(\"Input Device id \", i, \" - \", audio.get_device_info_by_host_api_device_index(0, i).get('name'))\n",
    "\n",
    "print(\"-------------------------------------------------------------\")\n",
    "\n",
    "index = int(input())\n",
    "print(\"recording via index \"+str(index))\n",
    "'''\n",
    "\n",
    "stream = audio.open(format=FORMAT, channels=CHANNELS,\n",
    "                rate=RATE, input=True,input_device_index = 1,\n",
    "                frames_per_buffer=CHUNK)\n",
    "print (\"recording started\")\n",
    "Recordframes = []\n",
    " \n",
    "for i in range(0, int(RATE / CHUNK * RECORD_SECONDS)):\n",
    "    data = stream.read(CHUNK)\n",
    "    Recordframes.append(data)\n",
    "print (\"recording stopped\")\n",
    " \n",
    "stream.stop_stream()\n",
    "stream.close()\n",
    "audio.terminate()\n",
    " \n",
    "waveFile = wave.open(WAVE_OUTPUT_FILENAME, 'wb')\n",
    "waveFile.setnchannels(CHANNELS)\n",
    "waveFile.setsampwidth(audio.get_sample_size(FORMAT))\n",
    "waveFile.setframerate(RATE)\n",
    "waveFile.writeframes(b''.join(Recordframes))\n",
    "waveFile.close()"
   ]
  },
  {
   "cell_type": "code",
   "execution_count": 98,
   "metadata": {},
   "outputs": [],
   "source": [
    "# wf = wave.open(sys.argv[1], 'rb')\n",
    "wf = wave.open(\"recordedFile.wav\", 'rb')\n",
    "\n",
    "# instantiate PyAudio(1)\n",
    "p = pyaudio.PyAudio()\n",
    "\n",
    "# open stream (2)\n",
    "stream = p.open(format=p.get_format_from_width(wf.getsampwidth()),\n",
    "                channels=wf.getnchannels(),\n",
    "                rate=wf.getframerate(),\n",
    "                output=True)\n",
    "\n",
    "# read data\n",
    "data = wf.readframes(CHUNK)\n",
    "\n",
    "# play stream (3)\n",
    "while len(data) > 0:\n",
    "    stream.write(data)\n",
    "    data = wf.readframes(CHUNK)\n",
    "\n",
    "# stop stream (4)\n",
    "stream.stop_stream()\n",
    "stream.close()\n",
    "\n",
    "# close PyAudio (5)\n",
    "p.terminate()"
   ]
  }
 ],
 "metadata": {
  "kernelspec": {
   "display_name": "Python 3",
   "language": "python",
   "name": "python3"
  },
  "language_info": {
   "codemirror_mode": {
    "name": "ipython",
    "version": 3
   },
   "file_extension": ".py",
   "mimetype": "text/x-python",
   "name": "python",
   "nbconvert_exporter": "python",
   "pygments_lexer": "ipython3",
   "version": "3.7.2"
  }
 },
 "nbformat": 4,
 "nbformat_minor": 2
}
